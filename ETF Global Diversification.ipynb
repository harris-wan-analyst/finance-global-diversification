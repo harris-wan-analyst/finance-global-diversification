{
 "cells": [
  {
   "cell_type": "markdown",
   "metadata": {},
   "source": [
    "### Import Libraries "
   ]
  },
  {
   "cell_type": "code",
   "execution_count": 1,
   "metadata": {},
   "outputs": [],
   "source": [
    "import pandas as pd\n",
    "import numpy as np\n",
    "from pandas_datareader import data as pdr\n",
    "import matplotlib.pyplot as plt\n",
    "import scipy.stats as sst\n",
    "import seaborn as sns\n",
    "import statsmodels.api as sm\n",
    "from pandas_datareader.famafrench import get_available_datasets"
   ]
  },
  {
   "cell_type": "markdown",
   "metadata": {},
   "source": [
    "### Import ETF data from Yahoo Finance"
   ]
  },
  {
   "cell_type": "code",
   "execution_count": 2,
   "metadata": {},
   "outputs": [],
   "source": [
    "tickers = ['SPY', 'IEUR', 'AIA']\n",
    "\n",
    "ETFs = pd.DataFrame()\n",
    "\n",
    "for t in tickers:\n",
    "    ETFs[t] = pdr.DataReader(t, data_source = 'yahoo', start = '2014-1-1', end = '2021-12-31')['Adj Close']"
   ]
  },
  {
   "cell_type": "code",
   "execution_count": 3,
   "metadata": {
    "scrolled": true
   },
   "outputs": [
    {
     "data": {
      "text/html": [
       "<div>\n",
       "<style scoped>\n",
       "    .dataframe tbody tr th:only-of-type {\n",
       "        vertical-align: middle;\n",
       "    }\n",
       "\n",
       "    .dataframe tbody tr th {\n",
       "        vertical-align: top;\n",
       "    }\n",
       "\n",
       "    .dataframe thead th {\n",
       "        text-align: right;\n",
       "    }\n",
       "</style>\n",
       "<table border=\"1\" class=\"dataframe\">\n",
       "  <thead>\n",
       "    <tr style=\"text-align: right;\">\n",
       "      <th></th>\n",
       "      <th>SPY</th>\n",
       "      <th>IEUR</th>\n",
       "      <th>AIA</th>\n",
       "    </tr>\n",
       "    <tr>\n",
       "      <th>Date</th>\n",
       "      <th></th>\n",
       "      <th></th>\n",
       "      <th></th>\n",
       "    </tr>\n",
       "  </thead>\n",
       "  <tbody>\n",
       "    <tr>\n",
       "      <th>2014-06-13</th>\n",
       "      <td>0.003049</td>\n",
       "      <td>-0.000801</td>\n",
       "      <td>0.002689</td>\n",
       "    </tr>\n",
       "    <tr>\n",
       "      <th>2014-06-16</th>\n",
       "      <td>0.000824</td>\n",
       "      <td>-0.004809</td>\n",
       "      <td>-0.002269</td>\n",
       "    </tr>\n",
       "    <tr>\n",
       "      <th>2014-06-17</th>\n",
       "      <td>0.002779</td>\n",
       "      <td>0.000000</td>\n",
       "      <td>0.001447</td>\n",
       "    </tr>\n",
       "    <tr>\n",
       "      <th>2014-06-18</th>\n",
       "      <td>0.007340</td>\n",
       "      <td>0.015301</td>\n",
       "      <td>0.005780</td>\n",
       "    </tr>\n",
       "    <tr>\n",
       "      <th>2014-06-19</th>\n",
       "      <td>0.001121</td>\n",
       "      <td>0.001547</td>\n",
       "      <td>-0.005131</td>\n",
       "    </tr>\n",
       "  </tbody>\n",
       "</table>\n",
       "</div>"
      ],
      "text/plain": [
       "                 SPY      IEUR       AIA\n",
       "Date                                    \n",
       "2014-06-13  0.003049 -0.000801  0.002689\n",
       "2014-06-16  0.000824 -0.004809 -0.002269\n",
       "2014-06-17  0.002779  0.000000  0.001447\n",
       "2014-06-18  0.007340  0.015301  0.005780\n",
       "2014-06-19  0.001121  0.001547 -0.005131"
      ]
     },
     "execution_count": 3,
     "metadata": {},
     "output_type": "execute_result"
    }
   ],
   "source": [
    "ETFs_return = ETFs/ETFs.shift(1) - 1\n",
    "ETFs_return = ETFs_return.dropna()\n",
    "ETFs_return.head()"
   ]
  },
  {
   "cell_type": "markdown",
   "metadata": {},
   "source": [
    "### Descriptive Statistics And Graphs"
   ]
  },
  {
   "cell_type": "code",
   "execution_count": 4,
   "metadata": {},
   "outputs": [
    {
     "data": {
      "text/html": [
       "<div>\n",
       "<style scoped>\n",
       "    .dataframe tbody tr th:only-of-type {\n",
       "        vertical-align: middle;\n",
       "    }\n",
       "\n",
       "    .dataframe tbody tr th {\n",
       "        vertical-align: top;\n",
       "    }\n",
       "\n",
       "    .dataframe thead th {\n",
       "        text-align: right;\n",
       "    }\n",
       "</style>\n",
       "<table border=\"1\" class=\"dataframe\">\n",
       "  <thead>\n",
       "    <tr style=\"text-align: right;\">\n",
       "      <th></th>\n",
       "      <th>SPY</th>\n",
       "      <th>IEUR</th>\n",
       "      <th>AIA</th>\n",
       "    </tr>\n",
       "  </thead>\n",
       "  <tbody>\n",
       "    <tr>\n",
       "      <th>count</th>\n",
       "      <td>1903.000000</td>\n",
       "      <td>1903.000000</td>\n",
       "      <td>1903.000000</td>\n",
       "    </tr>\n",
       "    <tr>\n",
       "      <th>mean</th>\n",
       "      <td>0.000608</td>\n",
       "      <td>0.000260</td>\n",
       "      <td>0.000412</td>\n",
       "    </tr>\n",
       "    <tr>\n",
       "      <th>std</th>\n",
       "      <td>0.010890</td>\n",
       "      <td>0.011633</td>\n",
       "      <td>0.012973</td>\n",
       "    </tr>\n",
       "    <tr>\n",
       "      <th>min</th>\n",
       "      <td>-0.109424</td>\n",
       "      <td>-0.116541</td>\n",
       "      <td>-0.098266</td>\n",
       "    </tr>\n",
       "    <tr>\n",
       "      <th>25%</th>\n",
       "      <td>-0.003116</td>\n",
       "      <td>-0.004591</td>\n",
       "      <td>-0.006628</td>\n",
       "    </tr>\n",
       "    <tr>\n",
       "      <th>50%</th>\n",
       "      <td>0.000659</td>\n",
       "      <td>0.000632</td>\n",
       "      <td>0.000851</td>\n",
       "    </tr>\n",
       "    <tr>\n",
       "      <th>75%</th>\n",
       "      <td>0.005372</td>\n",
       "      <td>0.006050</td>\n",
       "      <td>0.007914</td>\n",
       "    </tr>\n",
       "    <tr>\n",
       "      <th>max</th>\n",
       "      <td>0.090603</td>\n",
       "      <td>0.091052</td>\n",
       "      <td>0.069101</td>\n",
       "    </tr>\n",
       "  </tbody>\n",
       "</table>\n",
       "</div>"
      ],
      "text/plain": [
       "               SPY         IEUR          AIA\n",
       "count  1903.000000  1903.000000  1903.000000\n",
       "mean      0.000608     0.000260     0.000412\n",
       "std       0.010890     0.011633     0.012973\n",
       "min      -0.109424    -0.116541    -0.098266\n",
       "25%      -0.003116    -0.004591    -0.006628\n",
       "50%       0.000659     0.000632     0.000851\n",
       "75%       0.005372     0.006050     0.007914\n",
       "max       0.090603     0.091052     0.069101"
      ]
     },
     "execution_count": 4,
     "metadata": {},
     "output_type": "execute_result"
    }
   ],
   "source": [
    "ETFs_return.describe()"
   ]
  },
  {
   "cell_type": "code",
   "execution_count": 5,
   "metadata": {},
   "outputs": [
    {
     "data": {
      "text/plain": [
       "SPY     0.151952\n",
       "IEUR    0.064894\n",
       "AIA     0.102876\n",
       "dtype: float64"
      ]
     },
     "execution_count": 5,
     "metadata": {},
     "output_type": "execute_result"
    }
   ],
   "source": [
    "ETFs_return.mean()*250"
   ]
  },
  {
   "cell_type": "markdown",
   "metadata": {},
   "source": [
    "#### The mean daily and annual return on “SPY” is more than double of “IEUR” and 1.47 more of “AIA”"
   ]
  },
  {
   "cell_type": "markdown",
   "metadata": {},
   "source": [
    "### Figure 1"
   ]
  },
  {
   "cell_type": "code",
   "execution_count": 6,
   "metadata": {},
   "outputs": [
    {
     "data": {
      "text/plain": [
       "<AxesSubplot:xlabel='Date'>"
      ]
     },
     "execution_count": 6,
     "metadata": {},
     "output_type": "execute_result"
    },
    {
     "data": {
      "image/png": "[encoded data removed]",
      "text/plain": [
       "<Figure size 640x480 with 1 Axes>"
      ]
     },
     "metadata": {},
     "output_type": "display_data"
    }
   ],
   "source": [
    "ETFs_return.plot()"
   ]
  },
  {
   "cell_type": "markdown",
   "metadata": {},
   "source": [
    "#### 1. Fluctuations of the daily returns of the three ETFs are relatively similar, centered between 0.05 and -0.05"
   ]
  },
  {
   "cell_type": "markdown",
   "metadata": {},
   "source": [
    "#### 2. Major fluctuations occurred between 2020 and 2021 which is during the Covid-19 period"
   ]
  },
  {
   "cell_type": "markdown",
   "metadata": {},
   "source": [
    "### Figure 2 (Kernel Density Estimation Plot)"
   ]
  },
  {
   "cell_type": "code",
   "execution_count": 7,
   "metadata": {},
   "outputs": [
    {
     "data": {
      "text/plain": [
       "<AxesSubplot:ylabel='Density'>"
      ]
     },
     "execution_count": 7,
     "metadata": {},
     "output_type": "execute_result"
    },
    {
     "data": {
      "image/png": "[encoded data removed]",
      "text/plain": [
       "<Figure size 640x480 with 1 Axes>"
      ]
     },
     "metadata": {},
     "output_type": "display_data"
    }
   ],
   "source": [
    "ETFs_return.plot(kind = 'kde')"
   ]
  },
  {
   "cell_type": "markdown",
   "metadata": {},
   "source": [
    "#### SPY has an overall higher and centered return than IEUR and AIA"
   ]
  },
  {
   "cell_type": "markdown",
   "metadata": {},
   "source": [
    "### Standard Deviation (Measure Risks)"
   ]
  },
  {
   "cell_type": "code",
   "execution_count": 8,
   "metadata": {},
   "outputs": [
    {
     "data": {
      "text/plain": [
       "SPY     0.010890\n",
       "IEUR    0.011633\n",
       "AIA     0.012973\n",
       "dtype: float64"
      ]
     },
     "execution_count": 8,
     "metadata": {},
     "output_type": "execute_result"
    }
   ],
   "source": [
    "ETFs_return.std()"
   ]
  },
  {
   "cell_type": "markdown",
   "metadata": {},
   "source": [
    "### Correlation "
   ]
  },
  {
   "cell_type": "code",
   "execution_count": 9,
   "metadata": {},
   "outputs": [
    {
     "data": {
      "text/html": [
       "<div>\n",
       "<style scoped>\n",
       "    .dataframe tbody tr th:only-of-type {\n",
       "        vertical-align: middle;\n",
       "    }\n",
       "\n",
       "    .dataframe tbody tr th {\n",
       "        vertical-align: top;\n",
       "    }\n",
       "\n",
       "    .dataframe thead th {\n",
       "        text-align: right;\n",
       "    }\n",
       "</style>\n",
       "<table border=\"1\" class=\"dataframe\">\n",
       "  <thead>\n",
       "    <tr style=\"text-align: right;\">\n",
       "      <th></th>\n",
       "      <th>SPY</th>\n",
       "      <th>IEUR</th>\n",
       "      <th>AIA</th>\n",
       "    </tr>\n",
       "  </thead>\n",
       "  <tbody>\n",
       "    <tr>\n",
       "      <th>SPY</th>\n",
       "      <td>1.000000</td>\n",
       "      <td>0.837054</td>\n",
       "      <td>0.720150</td>\n",
       "    </tr>\n",
       "    <tr>\n",
       "      <th>IEUR</th>\n",
       "      <td>0.837054</td>\n",
       "      <td>1.000000</td>\n",
       "      <td>0.726406</td>\n",
       "    </tr>\n",
       "    <tr>\n",
       "      <th>AIA</th>\n",
       "      <td>0.720150</td>\n",
       "      <td>0.726406</td>\n",
       "      <td>1.000000</td>\n",
       "    </tr>\n",
       "  </tbody>\n",
       "</table>\n",
       "</div>"
      ],
      "text/plain": [
       "           SPY      IEUR       AIA\n",
       "SPY   1.000000  0.837054  0.720150\n",
       "IEUR  0.837054  1.000000  0.726406\n",
       "AIA   0.720150  0.726406  1.000000"
      ]
     },
     "execution_count": 9,
     "metadata": {},
     "output_type": "execute_result"
    }
   ],
   "source": [
    "corr_matrix = ETFs_return.corr()\n",
    "corr_matrix"
   ]
  },
  {
   "cell_type": "code",
   "execution_count": 10,
   "metadata": {},
   "outputs": [
    {
     "data": {
      "text/plain": [
       "<AxesSubplot:>"
      ]
     },
     "execution_count": 10,
     "metadata": {},
     "output_type": "execute_result"
    },
    {
     "data": {
      "image/png": "[encoded data removed]",
      "text/plain": [
       "<Figure size 640x480 with 2 Axes>"
      ]
     },
     "metadata": {},
     "output_type": "display_data"
    }
   ],
   "source": [
    "corr = ETFs_return.corr()\n",
    "\n",
    "sns.heatmap(corr, xticklabels = corr.columns, yticklabels = corr.columns, annot = True, cmap = \"coolwarm\")"
   ]
  },
  {
   "cell_type": "markdown",
   "metadata": {},
   "source": [
    "#### All 3 ETFs are highly correlated (move in the same direction)"
   ]
  },
  {
   "cell_type": "markdown",
   "metadata": {},
   "source": [
    "### Spearman rank correlation test"
   ]
  },
  {
   "cell_type": "code",
   "execution_count": 11,
   "metadata": {},
   "outputs": [
    {
     "data": {
      "text/plain": [
       "PearsonRResult(statistic=0.8370535363916326, pvalue=0.0)"
      ]
     },
     "execution_count": 11,
     "metadata": {},
     "output_type": "execute_result"
    }
   ],
   "source": [
    "sst.pearsonr(ETFs_return['SPY'], ETFs_return['IEUR'])"
   ]
  },
  {
   "cell_type": "code",
   "execution_count": 12,
   "metadata": {},
   "outputs": [
    {
     "data": {
      "text/plain": [
       "PearsonRResult(statistic=0.7201504500701316, pvalue=4.097287930948629e-304)"
      ]
     },
     "execution_count": 12,
     "metadata": {},
     "output_type": "execute_result"
    }
   ],
   "source": [
    "sst.pearsonr(ETFs_return['SPY'], ETFs_return['AIA'])"
   ]
  },
  {
   "cell_type": "markdown",
   "metadata": {},
   "source": [
    "#### Reject the null hypothesis and that the correlations are statistically different from zero"
   ]
  },
  {
   "cell_type": "markdown",
   "metadata": {},
   "source": [
    "### Portfolio Analysis "
   ]
  },
  {
   "cell_type": "markdown",
   "metadata": {},
   "source": [
    "#### Hypothesis Test (Return):\n",
    "- H0: u1 = u2 --> null hypothesis\n",
    "- Ha: u1 ≠ u2 --> alternative hypothesis "
   ]
  },
  {
   "cell_type": "code",
   "execution_count": 13,
   "metadata": {},
   "outputs": [
    {
     "data": {
      "text/plain": [
       "array([ 0.00162898, -0.00206372,  0.0013947 , ..., -0.00069854,\n",
       "        0.00320236, -0.00383666])"
      ]
     },
     "execution_count": 13,
     "metadata": {},
     "output_type": "execute_result"
    }
   ],
   "source": [
    "weights1 = np.array([0.33,0.33,0.33])\n",
    "\n",
    "port_ret1 = np.dot(ETFs_return, weights1)\n",
    "port_ret1 = port_ret1[~np.isnan(port_ret1)]\n",
    "port_ret1"
   ]
  },
  {
   "cell_type": "code",
   "execution_count": 14,
   "metadata": {},
   "outputs": [
    {
     "data": {
      "text/plain": [
       "array([ 0.00129061, -0.00273429,  0.00111907, ..., -0.00088517,\n",
       "        0.0037936 , -0.00393971])"
      ]
     },
     "execution_count": 14,
     "metadata": {},
     "output_type": "execute_result"
    }
   ],
   "source": [
    "weights2 = np.array([0.21,0.43,0.37])\n",
    "\n",
    "port_ret2 = np.dot(ETFs_return, weights2)\n",
    "port_ret2 = port_ret2[~np.isnan(port_ret2)]\n",
    "port_ret2"
   ]
  },
  {
   "cell_type": "code",
   "execution_count": 15,
   "metadata": {},
   "outputs": [
    {
     "data": {
      "text/plain": [
       "Ttest_indResult(statistic=0.08625464257087727, pvalue=0.9312685387094951)"
      ]
     },
     "execution_count": 15,
     "metadata": {},
     "output_type": "execute_result"
    }
   ],
   "source": [
    "sst.ttest_ind(a = port_ret1, b = port_ret2, equal_var = False)"
   ]
  },
  {
   "cell_type": "markdown",
   "metadata": {},
   "source": [
    "#### Fail to reject the null hypothesis; the mean return of the 2 portfolios are not statistically different"
   ]
  },
  {
   "cell_type": "markdown",
   "metadata": {},
   "source": [
    "#### Hypothesis Test (Risks):\n",
    "- H0: u1 = u2 --> null hypothesis\n",
    "- Ha: u1 ≠ u2 --> alternative hypothesis "
   ]
  },
  {
   "cell_type": "code",
   "execution_count": 16,
   "metadata": {},
   "outputs": [
    {
     "data": {
      "text/plain": [
       "1.0697154485065492"
      ]
     },
     "execution_count": 16,
     "metadata": {},
     "output_type": "execute_result"
    }
   ],
   "source": [
    "F_stat = max(port_ret1.var()/port_ret2.var(),\n",
    "             port_ret2.var()/port_ret1.var())\n",
    "F_stat"
   ]
  },
  {
   "cell_type": "code",
   "execution_count": 17,
   "metadata": {},
   "outputs": [
    {
     "data": {
      "text/plain": [
       "1.0783695556722634"
      ]
     },
     "execution_count": 17,
     "metadata": {},
     "output_type": "execute_result"
    }
   ],
   "source": [
    "sst.f.ppf(0.95, dfn = 1902, dfd = 1902)"
   ]
  },
  {
   "cell_type": "code",
   "execution_count": 18,
   "metadata": {},
   "outputs": [
    {
     "data": {
      "text/plain": [
       "0.07088519928504344"
      ]
     },
     "execution_count": 18,
     "metadata": {},
     "output_type": "execute_result"
    }
   ],
   "source": [
    "p_value1 = 1 - sst.f.cdf(F_stat, dfn = 1902, dfd = 1902)\n",
    "p_value1"
   ]
  },
  {
   "cell_type": "markdown",
   "metadata": {},
   "source": [
    "#### Fail to reject the null hypothesis; the variance of the 2 portfolios are not statistically different"
   ]
  },
  {
   "cell_type": "markdown",
   "metadata": {},
   "source": [
    "### Economic Significance"
   ]
  },
  {
   "cell_type": "markdown",
   "metadata": {},
   "source": [
    "#### Return:"
   ]
  },
  {
   "cell_type": "code",
   "execution_count": 19,
   "metadata": {},
   "outputs": [],
   "source": [
    "a = float((ETFs_return['SPY'][1902] - ETFs_return['SPY'][0]) / ETFs_return['SPY'][0] * 100)\n",
    "b = float((ETFs_return['IEUR'][1902] - ETFs_return['IEUR'][0]) / ETFs_return['IEUR'][0] * 100)\n",
    "c = float((ETFs_return['AIA'][1902] - ETFs_return['AIA'][0]) / ETFs_return['AIA'][0] * 100)"
   ]
  },
  {
   "cell_type": "code",
   "execution_count": 20,
   "metadata": {},
   "outputs": [
    {
     "data": {
      "text/html": [
       "<div>\n",
       "<style scoped>\n",
       "    .dataframe tbody tr th:only-of-type {\n",
       "        vertical-align: middle;\n",
       "    }\n",
       "\n",
       "    .dataframe tbody tr th {\n",
       "        vertical-align: top;\n",
       "    }\n",
       "\n",
       "    .dataframe thead th {\n",
       "        text-align: right;\n",
       "    }\n",
       "</style>\n",
       "<table border=\"1\" class=\"dataframe\">\n",
       "  <thead>\n",
       "    <tr style=\"text-align: right;\">\n",
       "      <th></th>\n",
       "      <th>ETF</th>\n",
       "      <th>Cumulative_Return</th>\n",
       "    </tr>\n",
       "  </thead>\n",
       "  <tbody>\n",
       "    <tr>\n",
       "      <th>0</th>\n",
       "      <td>SPY</td>\n",
       "      <td>-182.670176</td>\n",
       "    </tr>\n",
       "    <tr>\n",
       "      <th>1</th>\n",
       "      <td>IEUR</td>\n",
       "      <td>-14.176350</td>\n",
       "    </tr>\n",
       "    <tr>\n",
       "      <th>2</th>\n",
       "      <td>AIA</td>\n",
       "      <td>-413.127002</td>\n",
       "    </tr>\n",
       "  </tbody>\n",
       "</table>\n",
       "</div>"
      ],
      "text/plain": [
       "    ETF  Cumulative_Return\n",
       "0   SPY        -182.670176\n",
       "1  IEUR         -14.176350\n",
       "2   AIA        -413.127002"
      ]
     },
     "execution_count": 20,
     "metadata": {},
     "output_type": "execute_result"
    }
   ],
   "source": [
    "df = {'ETF':['SPY', 'IEUR', 'AIA'], 'Cumulative_Return':[a, b, c]}\n",
    "pd.DataFrame(df)"
   ]
  },
  {
   "cell_type": "markdown",
   "metadata": {},
   "source": [
    "#### Risk:"
   ]
  },
  {
   "cell_type": "code",
   "execution_count": 21,
   "metadata": {},
   "outputs": [
    {
     "data": {
      "text/plain": [
       "SPY     0.708261\n",
       "IEUR    0.189717\n",
       "AIA     0.355279\n",
       "dtype: float64"
      ]
     },
     "execution_count": 21,
     "metadata": {},
     "output_type": "execute_result"
    }
   ],
   "source": [
    "Sr = (ETFs_return.mean()*250 - 0.03)/ (ETFs_return.std()*(250**0.5))\n",
    "Sr"
   ]
  },
  {
   "cell_type": "markdown",
   "metadata": {},
   "source": [
    "#### Explanation: \n",
    "- Positive value = Positive excess return for each unit of risk\n",
    "- Less than 1 = suboptimal (low excess return, esp for IEUR and AIA)"
   ]
  },
  {
   "cell_type": "markdown",
   "metadata": {},
   "source": [
    "### Portfolio Return and Risks:"
   ]
  },
  {
   "cell_type": "code",
   "execution_count": 22,
   "metadata": {},
   "outputs": [],
   "source": [
    "port1 = np.array([0.33,0.33,0.33]) #Equal weight\n",
    "port2 = np.array([0.21,0.43,0.37]) #Diversified"
   ]
  },
  {
   "cell_type": "code",
   "execution_count": 23,
   "metadata": {},
   "outputs": [
    {
     "data": {
      "text/html": [
       "<div>\n",
       "<style scoped>\n",
       "    .dataframe tbody tr th:only-of-type {\n",
       "        vertical-align: middle;\n",
       "    }\n",
       "\n",
       "    .dataframe tbody tr th {\n",
       "        vertical-align: top;\n",
       "    }\n",
       "\n",
       "    .dataframe thead th {\n",
       "        text-align: right;\n",
       "    }\n",
       "</style>\n",
       "<table border=\"1\" class=\"dataframe\">\n",
       "  <thead>\n",
       "    <tr style=\"text-align: right;\">\n",
       "      <th></th>\n",
       "      <th>Mean Return</th>\n",
       "      <th>Standard Deviation</th>\n",
       "    </tr>\n",
       "    <tr>\n",
       "      <th>Portfolio</th>\n",
       "      <th></th>\n",
       "      <th></th>\n",
       "    </tr>\n",
       "  </thead>\n",
       "  <tbody>\n",
       "    <tr>\n",
       "      <th>1</th>\n",
       "      <td>0.105508</td>\n",
       "      <td>0.169593</td>\n",
       "    </tr>\n",
       "    <tr>\n",
       "      <th>2</th>\n",
       "      <td>0.097878</td>\n",
       "      <td>0.175405</td>\n",
       "    </tr>\n",
       "  </tbody>\n",
       "</table>\n",
       "</div>"
      ],
      "text/plain": [
       "           Mean Return  Standard Deviation\n",
       "Portfolio                                 \n",
       "1             0.105508            0.169593\n",
       "2             0.097878            0.175405"
      ]
     },
     "execution_count": 23,
     "metadata": {},
     "output_type": "execute_result"
    }
   ],
   "source": [
    "def port_rr(port):\n",
    "    return np.dot(ETFs_return,port)\n",
    "\n",
    "df = pd.DataFrame({'Portfolio':['1','2'],'Mean Return':[port_rr(port1).mean()*250, port_rr(port2).mean()*250], 'Standard Deviation':[(port_rr(port1).var()*250)**0.5, (port_rr(port2).var()*250)**0.5]}, index=['1','2'])\n",
    "df = df.set_index('Portfolio')\n",
    "pd.DataFrame(df)"
   ]
  },
  {
   "cell_type": "code",
   "execution_count": 24,
   "metadata": {},
   "outputs": [
    {
     "data": {
      "text/html": [
       "<div>\n",
       "<style scoped>\n",
       "    .dataframe tbody tr th:only-of-type {\n",
       "        vertical-align: middle;\n",
       "    }\n",
       "\n",
       "    .dataframe tbody tr th {\n",
       "        vertical-align: top;\n",
       "    }\n",
       "\n",
       "    .dataframe thead th {\n",
       "        text-align: right;\n",
       "    }\n",
       "</style>\n",
       "<table border=\"1\" class=\"dataframe\">\n",
       "  <thead>\n",
       "    <tr style=\"text-align: right;\">\n",
       "      <th></th>\n",
       "      <th>Sharpe Ratio</th>\n",
       "    </tr>\n",
       "    <tr>\n",
       "      <th>Portfolio</th>\n",
       "      <th></th>\n",
       "    </tr>\n",
       "  </thead>\n",
       "  <tbody>\n",
       "    <tr>\n",
       "      <th>1</th>\n",
       "      <td>0.445231</td>\n",
       "    </tr>\n",
       "    <tr>\n",
       "      <th>2</th>\n",
       "      <td>0.386981</td>\n",
       "    </tr>\n",
       "  </tbody>\n",
       "</table>\n",
       "</div>"
      ],
      "text/plain": [
       "           Sharpe Ratio\n",
       "Portfolio              \n",
       "1              0.445231\n",
       "2              0.386981"
      ]
     },
     "execution_count": 24,
     "metadata": {},
     "output_type": "execute_result"
    }
   ],
   "source": [
    "def port_sr(port):\n",
    "    return np.dot(ETFs_return,port)\n",
    "\n",
    "df = pd.DataFrame({'Portfolio':['1','2'],'Sharpe Ratio':[(port_rr(port1).mean()*250 - 0.03)/(port_rr(port1).std()*(250**0.5)), (port_rr(port2).mean()*250 - 0.03)/ (port_rr(port2).std()*(250**0.5))]},index=['1','2'])\n",
    "df = df.set_index('Portfolio')\n",
    "pd.DataFrame(df)"
   ]
  },
  {
   "cell_type": "markdown",
   "metadata": {},
   "source": [
    "#### Explanation:\n",
    "#### Portfolio with equal weight peformed better than diverfisifed portfolio. However, the computation of different weights on each ETF will make a difference.\n",
    "#### E.g. More weight on SPY will yield higher return\n",
    "#### Note: The risk in standard deviation has been consistent (no significant increase)"
   ]
  },
  {
   "cell_type": "markdown",
   "metadata": {},
   "source": [
    "### CAPM Model"
   ]
  },
  {
   "cell_type": "code",
   "execution_count": 25,
   "metadata": {},
   "outputs": [],
   "source": [
    "tickers1 = ['SPY', 'IEUR', 'AIA', '^IRX']\n",
    "\n",
    "etfs = pd.DataFrame()\n",
    "\n",
    "for t in tickers1:\n",
    "    etfs[t] = pdr.DataReader(t, data_source = 'yahoo', start = '2014-1-1', end = '2021-12-31')['Adj Close']"
   ]
  },
  {
   "cell_type": "code",
   "execution_count": 26,
   "metadata": {},
   "outputs": [
    {
     "data": {
      "text/html": [
       "<div>\n",
       "<style scoped>\n",
       "    .dataframe tbody tr th:only-of-type {\n",
       "        vertical-align: middle;\n",
       "    }\n",
       "\n",
       "    .dataframe tbody tr th {\n",
       "        vertical-align: top;\n",
       "    }\n",
       "\n",
       "    .dataframe thead th {\n",
       "        text-align: right;\n",
       "    }\n",
       "</style>\n",
       "<table border=\"1\" class=\"dataframe\">\n",
       "  <thead>\n",
       "    <tr style=\"text-align: right;\">\n",
       "      <th></th>\n",
       "      <th>SPY</th>\n",
       "      <th>IEUR</th>\n",
       "      <th>AIA</th>\n",
       "      <th>^IRX</th>\n",
       "    </tr>\n",
       "    <tr>\n",
       "      <th>Date</th>\n",
       "      <th></th>\n",
       "      <th></th>\n",
       "      <th></th>\n",
       "      <th></th>\n",
       "    </tr>\n",
       "  </thead>\n",
       "  <tbody>\n",
       "    <tr>\n",
       "      <th>2014-06-13</th>\n",
       "      <td>0.003048</td>\n",
       "      <td>-0.000801</td>\n",
       "      <td>0.002689</td>\n",
       "      <td>1.200000e-06</td>\n",
       "    </tr>\n",
       "    <tr>\n",
       "      <th>2014-06-16</th>\n",
       "      <td>0.000825</td>\n",
       "      <td>-0.004809</td>\n",
       "      <td>-0.002269</td>\n",
       "      <td>1.000000e-06</td>\n",
       "    </tr>\n",
       "    <tr>\n",
       "      <th>2014-06-17</th>\n",
       "      <td>0.002779</td>\n",
       "      <td>0.000000</td>\n",
       "      <td>0.001447</td>\n",
       "      <td>1.320000e-06</td>\n",
       "    </tr>\n",
       "    <tr>\n",
       "      <th>2014-06-18</th>\n",
       "      <td>0.007340</td>\n",
       "      <td>0.015301</td>\n",
       "      <td>0.005780</td>\n",
       "      <td>7.200000e-07</td>\n",
       "    </tr>\n",
       "    <tr>\n",
       "      <th>2014-06-19</th>\n",
       "      <td>0.001121</td>\n",
       "      <td>0.001546</td>\n",
       "      <td>-0.005131</td>\n",
       "      <td>4.000000e-07</td>\n",
       "    </tr>\n",
       "  </tbody>\n",
       "</table>\n",
       "</div>"
      ],
      "text/plain": [
       "                 SPY      IEUR       AIA          ^IRX\n",
       "Date                                                  \n",
       "2014-06-13  0.003048 -0.000801  0.002689  1.200000e-06\n",
       "2014-06-16  0.000825 -0.004809 -0.002269  1.000000e-06\n",
       "2014-06-17  0.002779  0.000000  0.001447  1.320000e-06\n",
       "2014-06-18  0.007340  0.015301  0.005780  7.200000e-07\n",
       "2014-06-19  0.001121  0.001546 -0.005131  4.000000e-07"
      ]
     },
     "execution_count": 26,
     "metadata": {},
     "output_type": "execute_result"
    }
   ],
   "source": [
    "etfs_returns = (etfs/etfs.shift(1))-1\n",
    "etfs_returns['^IRX'] = etfs['^IRX']/(100*250)\n",
    "etfs_returns = etfs_returns.dropna(axis = 0, how = 'any')\n",
    "etfs_returns.head()"
   ]
  },
  {
   "cell_type": "code",
   "execution_count": 27,
   "metadata": {},
   "outputs": [
    {
     "data": {
      "text/html": [
       "<div>\n",
       "<style scoped>\n",
       "    .dataframe tbody tr th:only-of-type {\n",
       "        vertical-align: middle;\n",
       "    }\n",
       "\n",
       "    .dataframe tbody tr th {\n",
       "        vertical-align: top;\n",
       "    }\n",
       "\n",
       "    .dataframe thead th {\n",
       "        text-align: right;\n",
       "    }\n",
       "</style>\n",
       "<table border=\"1\" class=\"dataframe\">\n",
       "  <thead>\n",
       "    <tr style=\"text-align: right;\">\n",
       "      <th></th>\n",
       "      <th>const</th>\n",
       "      <th>0</th>\n",
       "    </tr>\n",
       "    <tr>\n",
       "      <th>Date</th>\n",
       "      <th></th>\n",
       "      <th></th>\n",
       "    </tr>\n",
       "  </thead>\n",
       "  <tbody>\n",
       "    <tr>\n",
       "      <th>2014-06-13</th>\n",
       "      <td>1.0</td>\n",
       "      <td>0.003047</td>\n",
       "    </tr>\n",
       "    <tr>\n",
       "      <th>2014-06-16</th>\n",
       "      <td>1.0</td>\n",
       "      <td>0.000824</td>\n",
       "    </tr>\n",
       "    <tr>\n",
       "      <th>2014-06-17</th>\n",
       "      <td>1.0</td>\n",
       "      <td>0.002778</td>\n",
       "    </tr>\n",
       "    <tr>\n",
       "      <th>2014-06-18</th>\n",
       "      <td>1.0</td>\n",
       "      <td>0.007339</td>\n",
       "    </tr>\n",
       "    <tr>\n",
       "      <th>2014-06-19</th>\n",
       "      <td>1.0</td>\n",
       "      <td>0.001121</td>\n",
       "    </tr>\n",
       "    <tr>\n",
       "      <th>...</th>\n",
       "      <td>...</td>\n",
       "      <td>...</td>\n",
       "    </tr>\n",
       "    <tr>\n",
       "      <th>2021-12-27</th>\n",
       "      <td>1.0</td>\n",
       "      <td>0.014150</td>\n",
       "    </tr>\n",
       "    <tr>\n",
       "      <th>2021-12-28</th>\n",
       "      <td>1.0</td>\n",
       "      <td>-0.000819</td>\n",
       "    </tr>\n",
       "    <tr>\n",
       "      <th>2021-12-29</th>\n",
       "      <td>1.0</td>\n",
       "      <td>0.001277</td>\n",
       "    </tr>\n",
       "    <tr>\n",
       "      <th>2021-12-30</th>\n",
       "      <td>1.0</td>\n",
       "      <td>-0.002766</td>\n",
       "    </tr>\n",
       "    <tr>\n",
       "      <th>2021-12-31</th>\n",
       "      <td>1.0</td>\n",
       "      <td>-0.002521</td>\n",
       "    </tr>\n",
       "  </tbody>\n",
       "</table>\n",
       "<p>1901 rows × 2 columns</p>\n",
       "</div>"
      ],
      "text/plain": [
       "            const         0\n",
       "Date                       \n",
       "2014-06-13    1.0  0.003047\n",
       "2014-06-16    1.0  0.000824\n",
       "2014-06-17    1.0  0.002778\n",
       "2014-06-18    1.0  0.007339\n",
       "2014-06-19    1.0  0.001121\n",
       "...           ...       ...\n",
       "2021-12-27    1.0  0.014150\n",
       "2021-12-28    1.0 -0.000819\n",
       "2021-12-29    1.0  0.001277\n",
       "2021-12-30    1.0 -0.002766\n",
       "2021-12-31    1.0 -0.002521\n",
       "\n",
       "[1901 rows x 2 columns]"
      ]
     },
     "execution_count": 27,
     "metadata": {},
     "output_type": "execute_result"
    }
   ],
   "source": [
    "X1 = sm.add_constant(etfs_returns['SPY'] - etfs_returns['^IRX'])\n",
    "X1"
   ]
  },
  {
   "cell_type": "markdown",
   "metadata": {},
   "source": [
    "#### IEUR Regression"
   ]
  },
  {
   "cell_type": "code",
   "execution_count": 28,
   "metadata": {},
   "outputs": [
    {
     "data": {
      "text/html": [
       "<table class=\"simpletable\">\n",
       "<caption>OLS Regression Results</caption>\n",
       "<tr>\n",
       "  <th>Dep. Variable:</th>            <td>y</td>        <th>  R-squared:         </th>  <td>   0.701</td> \n",
       "</tr>\n",
       "<tr>\n",
       "  <th>Model:</th>                   <td>OLS</td>       <th>  Adj. R-squared:    </th>  <td>   0.701</td> \n",
       "</tr>\n",
       "<tr>\n",
       "  <th>Method:</th>             <td>Least Squares</td>  <th>  F-statistic:       </th>  <td>   4448.</td> \n",
       "</tr>\n",
       "<tr>\n",
       "  <th>Date:</th>             <td>Fri, 11 Nov 2022</td> <th>  Prob (F-statistic):</th>   <td>  0.00</td>  \n",
       "</tr>\n",
       "<tr>\n",
       "  <th>Time:</th>                 <td>00:36:47</td>     <th>  Log-Likelihood:    </th>  <td>  6916.2</td> \n",
       "</tr>\n",
       "<tr>\n",
       "  <th>No. Observations:</th>      <td>  1901</td>      <th>  AIC:               </th> <td>-1.383e+04</td>\n",
       "</tr>\n",
       "<tr>\n",
       "  <th>Df Residuals:</th>          <td>  1899</td>      <th>  BIC:               </th> <td>-1.382e+04</td>\n",
       "</tr>\n",
       "<tr>\n",
       "  <th>Df Model:</th>              <td>     1</td>      <th>                     </th>      <td> </td>    \n",
       "</tr>\n",
       "<tr>\n",
       "  <th>Covariance Type:</th>      <td>nonrobust</td>    <th>                     </th>      <td> </td>    \n",
       "</tr>\n",
       "</table>\n",
       "<table class=\"simpletable\">\n",
       "<tr>\n",
       "    <td></td>       <th>coef</th>     <th>std err</th>      <th>t</th>      <th>P>|t|</th>  <th>[0.025</th>    <th>0.975]</th>  \n",
       "</tr>\n",
       "<tr>\n",
       "  <th>const</th> <td>   -0.0003</td> <td>    0.000</td> <td>   -1.927</td> <td> 0.054</td> <td>   -0.001</td> <td> 5.06e-06</td>\n",
       "</tr>\n",
       "<tr>\n",
       "  <th>0</th>     <td>    0.8941</td> <td>    0.013</td> <td>   66.692</td> <td> 0.000</td> <td>    0.868</td> <td>    0.920</td>\n",
       "</tr>\n",
       "</table>\n",
       "<table class=\"simpletable\">\n",
       "<tr>\n",
       "  <th>Omnibus:</th>       <td>611.716</td> <th>  Durbin-Watson:     </th> <td>   2.027</td> \n",
       "</tr>\n",
       "<tr>\n",
       "  <th>Prob(Omnibus):</th> <td> 0.000</td>  <th>  Jarque-Bera (JB):  </th> <td>13959.930</td>\n",
       "</tr>\n",
       "<tr>\n",
       "  <th>Skew:</th>          <td>-0.966</td>  <th>  Prob(JB):          </th> <td>    0.00</td> \n",
       "</tr>\n",
       "<tr>\n",
       "  <th>Kurtosis:</th>      <td>16.134</td>  <th>  Cond. No.          </th> <td>    91.8</td> \n",
       "</tr>\n",
       "</table><br/><br/>Notes:<br/>[1] Standard Errors assume that the covariance matrix of the errors is correctly specified."
      ],
      "text/plain": [
       "<class 'statsmodels.iolib.summary.Summary'>\n",
       "\"\"\"\n",
       "                            OLS Regression Results                            \n",
       "==============================================================================\n",
       "Dep. Variable:                      y   R-squared:                       0.701\n",
       "Model:                            OLS   Adj. R-squared:                  0.701\n",
       "Method:                 Least Squares   F-statistic:                     4448.\n",
       "Date:                Fri, 11 Nov 2022   Prob (F-statistic):               0.00\n",
       "Time:                        00:36:47   Log-Likelihood:                 6916.2\n",
       "No. Observations:                1901   AIC:                        -1.383e+04\n",
       "Df Residuals:                    1899   BIC:                        -1.382e+04\n",
       "Df Model:                           1                                         \n",
       "Covariance Type:            nonrobust                                         \n",
       "==============================================================================\n",
       "                 coef    std err          t      P>|t|      [0.025      0.975]\n",
       "------------------------------------------------------------------------------\n",
       "const         -0.0003      0.000     -1.927      0.054      -0.001    5.06e-06\n",
       "0              0.8941      0.013     66.692      0.000       0.868       0.920\n",
       "==============================================================================\n",
       "Omnibus:                      611.716   Durbin-Watson:                   2.027\n",
       "Prob(Omnibus):                  0.000   Jarque-Bera (JB):            13959.930\n",
       "Skew:                          -0.966   Prob(JB):                         0.00\n",
       "Kurtosis:                      16.134   Cond. No.                         91.8\n",
       "==============================================================================\n",
       "\n",
       "Notes:\n",
       "[1] Standard Errors assume that the covariance matrix of the errors is correctly specified.\n",
       "\"\"\""
      ]
     },
     "execution_count": 28,
     "metadata": {},
     "output_type": "execute_result"
    }
   ],
   "source": [
    "reg1 = sm.OLS(etfs_returns['IEUR']- etfs_returns['^IRX'], X1).fit()\n",
    "reg1.summary()"
   ]
  },
  {
   "cell_type": "markdown",
   "metadata": {},
   "source": [
    "#### Explanation"
   ]
  },
  {
   "cell_type": "markdown",
   "metadata": {},
   "source": [
    "- 70.1% systematic risk / 29.9% idiosyncrastic risk\n",
    "- Negative alpha but marginal\n",
    "- Beta < 1 = IEUR < Market systematic risk"
   ]
  },
  {
   "cell_type": "markdown",
   "metadata": {},
   "source": [
    "- Fail to reject the hypothesis that the coefficient is equal to zero; the alpha of “IEUR” is not statistically different from zero\n",
    "\n",
    "- Reject the null hypothesis for beta that the coeffecients are equal to zero"
   ]
  },
  {
   "cell_type": "markdown",
   "metadata": {},
   "source": [
    "- Economically, IEUR performed slightly worse than the CAPM predicted during the sample period"
   ]
  },
  {
   "cell_type": "markdown",
   "metadata": {},
   "source": [
    "#### AIA Regression"
   ]
  },
  {
   "cell_type": "code",
   "execution_count": 29,
   "metadata": {
    "scrolled": true
   },
   "outputs": [
    {
     "data": {
      "text/html": [
       "<table class=\"simpletable\">\n",
       "<caption>OLS Regression Results</caption>\n",
       "<tr>\n",
       "  <th>Dep. Variable:</th>            <td>y</td>        <th>  R-squared:         </th>  <td>   0.519</td> \n",
       "</tr>\n",
       "<tr>\n",
       "  <th>Model:</th>                   <td>OLS</td>       <th>  Adj. R-squared:    </th>  <td>   0.518</td> \n",
       "</tr>\n",
       "<tr>\n",
       "  <th>Method:</th>             <td>Least Squares</td>  <th>  F-statistic:       </th>  <td>   2046.</td> \n",
       "</tr>\n",
       "<tr>\n",
       "  <th>Date:</th>             <td>Fri, 11 Nov 2022</td> <th>  Prob (F-statistic):</th>  <td>8.63e-304</td>\n",
       "</tr>\n",
       "<tr>\n",
       "  <th>Time:</th>                 <td>00:36:47</td>     <th>  Log-Likelihood:    </th>  <td>  6256.9</td> \n",
       "</tr>\n",
       "<tr>\n",
       "  <th>No. Observations:</th>      <td>  1901</td>      <th>  AIC:               </th> <td>-1.251e+04</td>\n",
       "</tr>\n",
       "<tr>\n",
       "  <th>Df Residuals:</th>          <td>  1899</td>      <th>  BIC:               </th> <td>-1.250e+04</td>\n",
       "</tr>\n",
       "<tr>\n",
       "  <th>Df Model:</th>              <td>     1</td>      <th>                     </th>      <td> </td>    \n",
       "</tr>\n",
       "<tr>\n",
       "  <th>Covariance Type:</th>      <td>nonrobust</td>    <th>                     </th>      <td> </td>    \n",
       "</tr>\n",
       "</table>\n",
       "<table class=\"simpletable\">\n",
       "<tr>\n",
       "    <td></td>       <th>coef</th>     <th>std err</th>      <th>t</th>      <th>P>|t|</th>  <th>[0.025</th>    <th>0.975]</th>  \n",
       "</tr>\n",
       "<tr>\n",
       "  <th>const</th> <td>   -0.0001</td> <td>    0.000</td> <td>   -0.542</td> <td> 0.588</td> <td>   -0.001</td> <td>    0.000</td>\n",
       "</tr>\n",
       "<tr>\n",
       "  <th>0</th>     <td>    0.8578</td> <td>    0.019</td> <td>   45.231</td> <td> 0.000</td> <td>    0.821</td> <td>    0.895</td>\n",
       "</tr>\n",
       "</table>\n",
       "<table class=\"simpletable\">\n",
       "<tr>\n",
       "  <th>Omnibus:</th>       <td>102.770</td> <th>  Durbin-Watson:     </th> <td>   2.004</td>\n",
       "</tr>\n",
       "<tr>\n",
       "  <th>Prob(Omnibus):</th> <td> 0.000</td>  <th>  Jarque-Bera (JB):  </th> <td> 369.362</td>\n",
       "</tr>\n",
       "<tr>\n",
       "  <th>Skew:</th>          <td> 0.112</td>  <th>  Prob(JB):          </th> <td>6.22e-81</td>\n",
       "</tr>\n",
       "<tr>\n",
       "  <th>Kurtosis:</th>      <td> 5.148</td>  <th>  Cond. No.          </th> <td>    91.8</td>\n",
       "</tr>\n",
       "</table><br/><br/>Notes:<br/>[1] Standard Errors assume that the covariance matrix of the errors is correctly specified."
      ],
      "text/plain": [
       "<class 'statsmodels.iolib.summary.Summary'>\n",
       "\"\"\"\n",
       "                            OLS Regression Results                            \n",
       "==============================================================================\n",
       "Dep. Variable:                      y   R-squared:                       0.519\n",
       "Model:                            OLS   Adj. R-squared:                  0.518\n",
       "Method:                 Least Squares   F-statistic:                     2046.\n",
       "Date:                Fri, 11 Nov 2022   Prob (F-statistic):          8.63e-304\n",
       "Time:                        00:36:47   Log-Likelihood:                 6256.9\n",
       "No. Observations:                1901   AIC:                        -1.251e+04\n",
       "Df Residuals:                    1899   BIC:                        -1.250e+04\n",
       "Df Model:                           1                                         \n",
       "Covariance Type:            nonrobust                                         \n",
       "==============================================================================\n",
       "                 coef    std err          t      P>|t|      [0.025      0.975]\n",
       "------------------------------------------------------------------------------\n",
       "const         -0.0001      0.000     -0.542      0.588      -0.001       0.000\n",
       "0              0.8578      0.019     45.231      0.000       0.821       0.895\n",
       "==============================================================================\n",
       "Omnibus:                      102.770   Durbin-Watson:                   2.004\n",
       "Prob(Omnibus):                  0.000   Jarque-Bera (JB):              369.362\n",
       "Skew:                           0.112   Prob(JB):                     6.22e-81\n",
       "Kurtosis:                       5.148   Cond. No.                         91.8\n",
       "==============================================================================\n",
       "\n",
       "Notes:\n",
       "[1] Standard Errors assume that the covariance matrix of the errors is correctly specified.\n",
       "\"\"\""
      ]
     },
     "execution_count": 29,
     "metadata": {},
     "output_type": "execute_result"
    }
   ],
   "source": [
    "reg2 = sm.OLS(etfs_returns['AIA'] - etfs_returns['^IRX'], X1).fit()\n",
    "reg2.summary()"
   ]
  },
  {
   "cell_type": "markdown",
   "metadata": {},
   "source": [
    "- 51.9% systematic risk / 48.1% idiosyncrastic risk\n",
    "- Negative alpha but extremely marginal\n",
    "- Beta < 1 = IEUR < Market systematic risk"
   ]
  },
  {
   "cell_type": "markdown",
   "metadata": {},
   "source": [
    "- Fail to reject the hypothesis that the coefficient is equal to zero; the alpha of “IEUR” is not statistically different from zero\n",
    "\n",
    "- Reject the null hypothesis for beta that the coeffecients are equal to zero"
   ]
  },
  {
   "cell_type": "markdown",
   "metadata": {},
   "source": [
    "- Economically, AIA performed slightly worse than the CAPM predicted during the sample period"
   ]
  },
  {
   "cell_type": "markdown",
   "metadata": {},
   "source": [
    "### 4 Factor Model"
   ]
  },
  {
   "cell_type": "code",
   "execution_count": 30,
   "metadata": {},
   "outputs": [],
   "source": [
    "ff = pdr.DataReader('F-F_Research_Data_Factors_daily','famafrench', start = '2014-6-13', end = '2021-12-31')[0]\n",
    "mm = pdr.DataReader('F-F_Momentum_Factor_daily','famafrench', start = '2014-6-13', end = '2021-12-31')[0]\n",
    "mm.columns=['Mom']\n",
    "factors = pd.merge(ff,mm,left_index=True,right_index=True)"
   ]
  },
  {
   "cell_type": "code",
   "execution_count": 31,
   "metadata": {},
   "outputs": [
    {
     "data": {
      "text/html": [
       "<div>\n",
       "<style scoped>\n",
       "    .dataframe tbody tr th:only-of-type {\n",
       "        vertical-align: middle;\n",
       "    }\n",
       "\n",
       "    .dataframe tbody tr th {\n",
       "        vertical-align: top;\n",
       "    }\n",
       "\n",
       "    .dataframe thead th {\n",
       "        text-align: right;\n",
       "    }\n",
       "</style>\n",
       "<table border=\"1\" class=\"dataframe\">\n",
       "  <thead>\n",
       "    <tr style=\"text-align: right;\">\n",
       "      <th></th>\n",
       "      <th>SPY</th>\n",
       "      <th>IEUR</th>\n",
       "      <th>AIA</th>\n",
       "      <th>Mkt-RF</th>\n",
       "      <th>SMB</th>\n",
       "      <th>HML</th>\n",
       "      <th>RF</th>\n",
       "      <th>Mom</th>\n",
       "    </tr>\n",
       "    <tr>\n",
       "      <th>Date</th>\n",
       "      <th></th>\n",
       "      <th></th>\n",
       "      <th></th>\n",
       "      <th></th>\n",
       "      <th></th>\n",
       "      <th></th>\n",
       "      <th></th>\n",
       "      <th></th>\n",
       "    </tr>\n",
       "  </thead>\n",
       "  <tbody>\n",
       "    <tr>\n",
       "      <th>2014-06-13</th>\n",
       "      <td>0.003049</td>\n",
       "      <td>-0.000801</td>\n",
       "      <td>0.002689</td>\n",
       "      <td>0.31</td>\n",
       "      <td>-0.06</td>\n",
       "      <td>-0.18</td>\n",
       "      <td>0.0</td>\n",
       "      <td>-0.08</td>\n",
       "    </tr>\n",
       "    <tr>\n",
       "      <th>2014-06-16</th>\n",
       "      <td>0.000824</td>\n",
       "      <td>-0.004809</td>\n",
       "      <td>-0.002269</td>\n",
       "      <td>0.13</td>\n",
       "      <td>0.47</td>\n",
       "      <td>-0.69</td>\n",
       "      <td>0.0</td>\n",
       "      <td>0.10</td>\n",
       "    </tr>\n",
       "    <tr>\n",
       "      <th>2014-06-17</th>\n",
       "      <td>0.002779</td>\n",
       "      <td>0.000000</td>\n",
       "      <td>0.001447</td>\n",
       "      <td>0.34</td>\n",
       "      <td>0.54</td>\n",
       "      <td>0.46</td>\n",
       "      <td>0.0</td>\n",
       "      <td>-0.06</td>\n",
       "    </tr>\n",
       "    <tr>\n",
       "      <th>2014-06-18</th>\n",
       "      <td>0.007340</td>\n",
       "      <td>0.015301</td>\n",
       "      <td>0.005780</td>\n",
       "      <td>0.75</td>\n",
       "      <td>-0.26</td>\n",
       "      <td>-0.09</td>\n",
       "      <td>0.0</td>\n",
       "      <td>0.09</td>\n",
       "    </tr>\n",
       "    <tr>\n",
       "      <th>2014-06-19</th>\n",
       "      <td>0.001121</td>\n",
       "      <td>0.001547</td>\n",
       "      <td>-0.005131</td>\n",
       "      <td>0.12</td>\n",
       "      <td>-0.15</td>\n",
       "      <td>-0.04</td>\n",
       "      <td>0.0</td>\n",
       "      <td>0.11</td>\n",
       "    </tr>\n",
       "  </tbody>\n",
       "</table>\n",
       "</div>"
      ],
      "text/plain": [
       "                 SPY      IEUR       AIA  Mkt-RF   SMB   HML   RF   Mom\n",
       "Date                                                                   \n",
       "2014-06-13  0.003049 -0.000801  0.002689    0.31 -0.06 -0.18  0.0 -0.08\n",
       "2014-06-16  0.000824 -0.004809 -0.002269    0.13  0.47 -0.69  0.0  0.10\n",
       "2014-06-17  0.002779  0.000000  0.001447    0.34  0.54  0.46  0.0 -0.06\n",
       "2014-06-18  0.007340  0.015301  0.005780    0.75 -0.26 -0.09  0.0  0.09\n",
       "2014-06-19  0.001121  0.001547 -0.005131    0.12 -0.15 -0.04  0.0  0.11"
      ]
     },
     "execution_count": 31,
     "metadata": {},
     "output_type": "execute_result"
    }
   ],
   "source": [
    "all = pd.merge(ETFs_return,factors,left_index=True,right_index=True)\n",
    "all = all.dropna(axis = 0, how = 'any')\n",
    "all.head()"
   ]
  },
  {
   "cell_type": "code",
   "execution_count": 32,
   "metadata": {},
   "outputs": [
    {
     "data": {
      "text/html": [
       "<div>\n",
       "<style scoped>\n",
       "    .dataframe tbody tr th:only-of-type {\n",
       "        vertical-align: middle;\n",
       "    }\n",
       "\n",
       "    .dataframe tbody tr th {\n",
       "        vertical-align: top;\n",
       "    }\n",
       "\n",
       "    .dataframe thead th {\n",
       "        text-align: right;\n",
       "    }\n",
       "</style>\n",
       "<table border=\"1\" class=\"dataframe\">\n",
       "  <thead>\n",
       "    <tr style=\"text-align: right;\">\n",
       "      <th></th>\n",
       "      <th>const</th>\n",
       "      <th>Mkt-RF</th>\n",
       "      <th>SMB</th>\n",
       "      <th>HML</th>\n",
       "      <th>Mom</th>\n",
       "    </tr>\n",
       "  </thead>\n",
       "  <tbody>\n",
       "    <tr>\n",
       "      <th>SPY</th>\n",
       "      <td>NaN</td>\n",
       "      <td>NaN</td>\n",
       "      <td>NaN</td>\n",
       "      <td>NaN</td>\n",
       "      <td>NaN</td>\n",
       "    </tr>\n",
       "    <tr>\n",
       "      <th>IEUR</th>\n",
       "      <td>NaN</td>\n",
       "      <td>NaN</td>\n",
       "      <td>NaN</td>\n",
       "      <td>NaN</td>\n",
       "      <td>NaN</td>\n",
       "    </tr>\n",
       "    <tr>\n",
       "      <th>AIA</th>\n",
       "      <td>NaN</td>\n",
       "      <td>NaN</td>\n",
       "      <td>NaN</td>\n",
       "      <td>NaN</td>\n",
       "      <td>NaN</td>\n",
       "    </tr>\n",
       "  </tbody>\n",
       "</table>\n",
       "</div>"
      ],
      "text/plain": [
       "      const  Mkt-RF  SMB  HML  Mom\n",
       "SPY     NaN     NaN  NaN  NaN  NaN\n",
       "IEUR    NaN     NaN  NaN  NaN  NaN\n",
       "AIA     NaN     NaN  NaN  NaN  NaN"
      ]
     },
     "execution_count": 32,
     "metadata": {},
     "output_type": "execute_result"
    }
   ],
   "source": [
    "sec_beta = pd.DataFrame(np.nan,index=tickers,columns=['const','Mkt-RF','SMB','HML','Mom'])\n",
    "sec_beta"
   ]
  },
  {
   "cell_type": "code",
   "execution_count": 33,
   "metadata": {},
   "outputs": [
    {
     "data": {
      "text/html": [
       "<div>\n",
       "<style scoped>\n",
       "    .dataframe tbody tr th:only-of-type {\n",
       "        vertical-align: middle;\n",
       "    }\n",
       "\n",
       "    .dataframe tbody tr th {\n",
       "        vertical-align: top;\n",
       "    }\n",
       "\n",
       "    .dataframe thead th {\n",
       "        text-align: right;\n",
       "    }\n",
       "</style>\n",
       "<table border=\"1\" class=\"dataframe\">\n",
       "  <thead>\n",
       "    <tr style=\"text-align: right;\">\n",
       "      <th></th>\n",
       "      <th>const</th>\n",
       "      <th>Mkt-RF</th>\n",
       "      <th>SMB</th>\n",
       "      <th>HML</th>\n",
       "      <th>Mom</th>\n",
       "    </tr>\n",
       "  </thead>\n",
       "  <tbody>\n",
       "    <tr>\n",
       "      <th>SPY</th>\n",
       "      <td>-0.002768</td>\n",
       "      <td>0.009781</td>\n",
       "      <td>-0.001192</td>\n",
       "      <td>0.000265</td>\n",
       "      <td>-0.000113</td>\n",
       "    </tr>\n",
       "    <tr>\n",
       "      <th>IEUR</th>\n",
       "      <td>-0.003022</td>\n",
       "      <td>0.008603</td>\n",
       "      <td>0.000109</td>\n",
       "      <td>0.001404</td>\n",
       "      <td>-0.000588</td>\n",
       "    </tr>\n",
       "    <tr>\n",
       "      <th>AIA</th>\n",
       "      <td>-0.002910</td>\n",
       "      <td>0.008476</td>\n",
       "      <td>0.000406</td>\n",
       "      <td>-0.000974</td>\n",
       "      <td>-0.000491</td>\n",
       "    </tr>\n",
       "  </tbody>\n",
       "</table>\n",
       "</div>"
      ],
      "text/plain": [
       "         const    Mkt-RF       SMB       HML       Mom\n",
       "SPY  -0.002768  0.009781 -0.001192  0.000265 -0.000113\n",
       "IEUR -0.003022  0.008603  0.000109  0.001404 -0.000588\n",
       "AIA  -0.002910  0.008476  0.000406 -0.000974 -0.000491"
      ]
     },
     "execution_count": 33,
     "metadata": {},
     "output_type": "execute_result"
    }
   ],
   "source": [
    "for t in tickers:\n",
    "    X = all[['Mkt-RF','SMB','HML','Mom']]\n",
    "    X1 = sm.add_constant(X)\n",
    "    Y = all[t] - all['RF']\n",
    "    reg = sm.OLS(Y,X1).fit()\n",
    "    sec_beta.loc[t,:]=reg.params\n",
    "sec_beta"
   ]
  },
  {
   "cell_type": "markdown",
   "metadata": {},
   "source": [
    "#### Explanation\n",
    "\n",
    "- Constant: pos: outperfomed / neg: underperformed than market\n",
    "- SMB: pos: small cap (IEUR, AIA) / neg: large cap (SPY) /\n",
    "- HML: pos: value stocks (SPY, IEUR) / neg: growth stock (AIA)\n",
    "- Mom: pos: momentum stock / neg: X momentum stock"
   ]
  },
  {
   "cell_type": "markdown",
   "metadata": {},
   "source": [
    "### Portfolio sort\n",
    "\n",
    "- Sort trading days according to trading volumes of all ETFs and examines their return differences between high volume days and low volume days\n",
    "\n",
    "- Separated into quintiles, with 0 being the lowest trading volume, and 4 being the highest"
   ]
  },
  {
   "cell_type": "code",
   "execution_count": 34,
   "metadata": {},
   "outputs": [],
   "source": [
    "SPY = pdr.DataReader('SPY',data_source='yahoo',start = '2014-1-1', end = '2021-12-31')[['Adj Close','Volume']]"
   ]
  },
  {
   "cell_type": "code",
   "execution_count": 35,
   "metadata": {},
   "outputs": [
    {
     "data": {
      "text/html": [
       "<div>\n",
       "<style scoped>\n",
       "    .dataframe tbody tr th:only-of-type {\n",
       "        vertical-align: middle;\n",
       "    }\n",
       "\n",
       "    .dataframe tbody tr th {\n",
       "        vertical-align: top;\n",
       "    }\n",
       "\n",
       "    .dataframe thead th {\n",
       "        text-align: right;\n",
       "    }\n",
       "</style>\n",
       "<table border=\"1\" class=\"dataframe\">\n",
       "  <thead>\n",
       "    <tr style=\"text-align: right;\">\n",
       "      <th></th>\n",
       "      <th>Adj Close</th>\n",
       "      <th>Volume</th>\n",
       "      <th>return</th>\n",
       "    </tr>\n",
       "    <tr>\n",
       "      <th>Date</th>\n",
       "      <th></th>\n",
       "      <th></th>\n",
       "      <th></th>\n",
       "    </tr>\n",
       "  </thead>\n",
       "  <tbody>\n",
       "    <tr>\n",
       "      <th>2014-01-03</th>\n",
       "      <td>155.675735</td>\n",
       "      <td>81390600.0</td>\n",
       "      <td>-0.000164</td>\n",
       "    </tr>\n",
       "    <tr>\n",
       "      <th>2014-01-06</th>\n",
       "      <td>155.224594</td>\n",
       "      <td>108028200.0</td>\n",
       "      <td>-0.002898</td>\n",
       "    </tr>\n",
       "    <tr>\n",
       "      <th>2014-01-07</th>\n",
       "      <td>156.177887</td>\n",
       "      <td>86144200.0</td>\n",
       "      <td>0.006141</td>\n",
       "    </tr>\n",
       "    <tr>\n",
       "      <th>2014-01-08</th>\n",
       "      <td>156.211914</td>\n",
       "      <td>96582300.0</td>\n",
       "      <td>0.000218</td>\n",
       "    </tr>\n",
       "    <tr>\n",
       "      <th>2014-01-09</th>\n",
       "      <td>156.314087</td>\n",
       "      <td>90683400.0</td>\n",
       "      <td>0.000654</td>\n",
       "    </tr>\n",
       "  </tbody>\n",
       "</table>\n",
       "</div>"
      ],
      "text/plain": [
       "             Adj Close       Volume    return\n",
       "Date                                         \n",
       "2014-01-03  155.675735   81390600.0 -0.000164\n",
       "2014-01-06  155.224594  108028200.0 -0.002898\n",
       "2014-01-07  156.177887   86144200.0  0.006141\n",
       "2014-01-08  156.211914   96582300.0  0.000218\n",
       "2014-01-09  156.314087   90683400.0  0.000654"
      ]
     },
     "execution_count": 35,
     "metadata": {},
     "output_type": "execute_result"
    }
   ],
   "source": [
    "SPY['return'] = SPY['Adj Close']/SPY['Adj Close'].shift(1)-1\n",
    "SPY = SPY.dropna(axis=0, how='any')\n",
    "SPY.head()"
   ]
  },
  {
   "cell_type": "code",
   "execution_count": 36,
   "metadata": {},
   "outputs": [
    {
     "data": {
      "text/html": [
       "<div>\n",
       "<style scoped>\n",
       "    .dataframe tbody tr th:only-of-type {\n",
       "        vertical-align: middle;\n",
       "    }\n",
       "\n",
       "    .dataframe tbody tr th {\n",
       "        vertical-align: top;\n",
       "    }\n",
       "\n",
       "    .dataframe thead th {\n",
       "        text-align: right;\n",
       "    }\n",
       "</style>\n",
       "<table border=\"1\" class=\"dataframe\">\n",
       "  <thead>\n",
       "    <tr style=\"text-align: right;\">\n",
       "      <th></th>\n",
       "      <th>Adj Close</th>\n",
       "      <th>Volume</th>\n",
       "      <th>return</th>\n",
       "      <th>rank</th>\n",
       "    </tr>\n",
       "    <tr>\n",
       "      <th>Date</th>\n",
       "      <th></th>\n",
       "      <th></th>\n",
       "      <th></th>\n",
       "      <th></th>\n",
       "    </tr>\n",
       "  </thead>\n",
       "  <tbody>\n",
       "    <tr>\n",
       "      <th>2014-01-03</th>\n",
       "      <td>155.675735</td>\n",
       "      <td>81390600.0</td>\n",
       "      <td>-0.000164</td>\n",
       "      <td>2</td>\n",
       "    </tr>\n",
       "    <tr>\n",
       "      <th>2014-01-06</th>\n",
       "      <td>155.224594</td>\n",
       "      <td>108028200.0</td>\n",
       "      <td>-0.002898</td>\n",
       "      <td>3</td>\n",
       "    </tr>\n",
       "    <tr>\n",
       "      <th>2014-01-07</th>\n",
       "      <td>156.177887</td>\n",
       "      <td>86144200.0</td>\n",
       "      <td>0.006141</td>\n",
       "      <td>2</td>\n",
       "    </tr>\n",
       "    <tr>\n",
       "      <th>2014-01-08</th>\n",
       "      <td>156.211914</td>\n",
       "      <td>96582300.0</td>\n",
       "      <td>0.000218</td>\n",
       "      <td>3</td>\n",
       "    </tr>\n",
       "    <tr>\n",
       "      <th>2014-01-09</th>\n",
       "      <td>156.314087</td>\n",
       "      <td>90683400.0</td>\n",
       "      <td>0.000654</td>\n",
       "      <td>3</td>\n",
       "    </tr>\n",
       "  </tbody>\n",
       "</table>\n",
       "</div>"
      ],
      "text/plain": [
       "             Adj Close       Volume    return  rank\n",
       "Date                                               \n",
       "2014-01-03  155.675735   81390600.0 -0.000164     2\n",
       "2014-01-06  155.224594  108028200.0 -0.002898     3\n",
       "2014-01-07  156.177887   86144200.0  0.006141     2\n",
       "2014-01-08  156.211914   96582300.0  0.000218     3\n",
       "2014-01-09  156.314087   90683400.0  0.000654     3"
      ]
     },
     "execution_count": 36,
     "metadata": {},
     "output_type": "execute_result"
    }
   ],
   "source": [
    "SPY['rank']=pd.DataFrame(pd.qcut(SPY['Volume'],5,labels=False))\n",
    "SPY.head()"
   ]
  },
  {
   "cell_type": "code",
   "execution_count": 37,
   "metadata": {},
   "outputs": [
    {
     "data": {
      "image/png": "[encoded data removed]",
      "text/plain": [
       "<Figure size 640x480 with 1 Axes>"
      ]
     },
     "metadata": {},
     "output_type": "display_data"
    }
   ],
   "source": [
    "SPY['rank'].plot()\n",
    "plt.show()"
   ]
  },
  {
   "cell_type": "code",
   "execution_count": 38,
   "metadata": {},
   "outputs": [
    {
     "name": "stdout",
     "output_type": "stream",
     "text": [
      "0\n",
      "1\n",
      "2\n",
      "3\n",
      "4\n"
     ]
    }
   ],
   "source": [
    "port=pd.DataFrame()\n",
    "for rank in [0,1,2,3,4]:\n",
    "    print(rank)\n",
    "    temp=SPY['return'][SPY['rank']==rank]\n",
    "    temp=temp.reset_index(drop=True)\n",
    "    port=port.reset_index(drop=True)\n",
    "    port=pd.concat([port,temp],axis=1,ignore_index=True)\n",
    "port=port.dropna(axis=0, how='any')"
   ]
  },
  {
   "cell_type": "code",
   "execution_count": 39,
   "metadata": {},
   "outputs": [
    {
     "data": {
      "text/html": [
       "<div>\n",
       "<style scoped>\n",
       "    .dataframe tbody tr th:only-of-type {\n",
       "        vertical-align: middle;\n",
       "    }\n",
       "\n",
       "    .dataframe tbody tr th {\n",
       "        vertical-align: top;\n",
       "    }\n",
       "\n",
       "    .dataframe thead th {\n",
       "        text-align: right;\n",
       "    }\n",
       "</style>\n",
       "<table border=\"1\" class=\"dataframe\">\n",
       "  <thead>\n",
       "    <tr style=\"text-align: right;\">\n",
       "      <th></th>\n",
       "      <th>0</th>\n",
       "      <th>1</th>\n",
       "      <th>2</th>\n",
       "      <th>3</th>\n",
       "      <th>4</th>\n",
       "    </tr>\n",
       "  </thead>\n",
       "  <tbody>\n",
       "    <tr>\n",
       "      <th>0</th>\n",
       "      <td>0.002023</td>\n",
       "      <td>-0.001300</td>\n",
       "      <td>-0.000164</td>\n",
       "      <td>-0.002898</td>\n",
       "      <td>-0.013305</td>\n",
       "    </tr>\n",
       "    <tr>\n",
       "      <th>1</th>\n",
       "      <td>0.000102</td>\n",
       "      <td>0.000652</td>\n",
       "      <td>0.006141</td>\n",
       "      <td>0.000218</td>\n",
       "      <td>-0.008193</td>\n",
       "    </tr>\n",
       "    <tr>\n",
       "      <th>2</th>\n",
       "      <td>0.001015</td>\n",
       "      <td>0.003487</td>\n",
       "      <td>0.002940</td>\n",
       "      <td>0.000654</td>\n",
       "      <td>-0.021336</td>\n",
       "    </tr>\n",
       "    <tr>\n",
       "      <th>3</th>\n",
       "      <td>0.004918</td>\n",
       "      <td>0.000896</td>\n",
       "      <td>0.001196</td>\n",
       "      <td>0.002723</td>\n",
       "      <td>-0.004919</td>\n",
       "    </tr>\n",
       "    <tr>\n",
       "      <th>4</th>\n",
       "      <td>0.000050</td>\n",
       "      <td>-0.004738</td>\n",
       "      <td>0.000906</td>\n",
       "      <td>0.010898</td>\n",
       "      <td>-0.009606</td>\n",
       "    </tr>\n",
       "  </tbody>\n",
       "</table>\n",
       "</div>"
      ],
      "text/plain": [
       "          0         1         2         3         4\n",
       "0  0.002023 -0.001300 -0.000164 -0.002898 -0.013305\n",
       "1  0.000102  0.000652  0.006141  0.000218 -0.008193\n",
       "2  0.001015  0.003487  0.002940  0.000654 -0.021336\n",
       "3  0.004918  0.000896  0.001196  0.002723 -0.004919\n",
       "4  0.000050 -0.004738  0.000906  0.010898 -0.009606"
      ]
     },
     "execution_count": 39,
     "metadata": {},
     "output_type": "execute_result"
    }
   ],
   "source": [
    "port.head()"
   ]
  },
  {
   "cell_type": "code",
   "execution_count": 40,
   "metadata": {},
   "outputs": [
    {
     "name": "stdout",
     "output_type": "stream",
     "text": [
      "0\n",
      "0.0017880950767813191\n",
      "Ttest_1sampResult(statistic=9.604575037466876, pvalue=8.520367448815725e-20)\n",
      "1\n",
      "0.002001800262862028\n",
      "Ttest_1sampResult(statistic=7.4465037357494355, pvalue=5.921023632274815e-13)\n",
      "2\n",
      "0.0013503501293108604\n",
      "Ttest_1sampResult(statistic=4.478863126790673, pvalue=9.798578403866418e-06)\n",
      "3\n",
      "0.0012175857084053647\n",
      "Ttest_1sampResult(statistic=2.7731367674985927, pvalue=0.0058109948423779355)\n",
      "4\n",
      "-0.0032565897572691665\n",
      "Ttest_1sampResult(statistic=-3.2704730491140155, pvalue=0.001166474257946979)\n"
     ]
    }
   ],
   "source": [
    "for i in [0,1,2,3,4]:\n",
    "    print(i)\n",
    "    print(port.loc[:,i].mean())\n",
    "    print(sst.ttest_1samp(a=port.loc[:,i],popmean=0))    "
   ]
  },
  {
   "cell_type": "markdown",
   "metadata": {},
   "source": [
    "#### For “SPY”, we are able to reject the null hypothesis of all 5 groups that the mean returns are statistically significant from zero for each group"
   ]
  },
  {
   "cell_type": "code",
   "execution_count": 41,
   "metadata": {},
   "outputs": [
    {
     "data": {
      "text/plain": [
       "Ttest_relResult(statistic=-4.8809136268060245, pvalue=1.5269201809111843e-06)"
      ]
     },
     "execution_count": 41,
     "metadata": {},
     "output_type": "execute_result"
    }
   ],
   "source": [
    "sst.ttest_rel(a=port.loc[:,4],b=port.loc[:,0])"
   ]
  },
  {
   "cell_type": "markdown",
   "metadata": {},
   "source": [
    "#### “SPY”’s highest return group is statistically different from the lowest return group"
   ]
  },
  {
   "cell_type": "code",
   "execution_count": 42,
   "metadata": {},
   "outputs": [],
   "source": [
    "IEUR = pdr.DataReader('IEUR',data_source='yahoo',start = '2014-1-1', end = '2021-12-31')[['Adj Close','Volume']]"
   ]
  },
  {
   "cell_type": "code",
   "execution_count": 43,
   "metadata": {},
   "outputs": [
    {
     "data": {
      "text/html": [
       "<div>\n",
       "<style scoped>\n",
       "    .dataframe tbody tr th:only-of-type {\n",
       "        vertical-align: middle;\n",
       "    }\n",
       "\n",
       "    .dataframe tbody tr th {\n",
       "        vertical-align: top;\n",
       "    }\n",
       "\n",
       "    .dataframe thead th {\n",
       "        text-align: right;\n",
       "    }\n",
       "</style>\n",
       "<table border=\"1\" class=\"dataframe\">\n",
       "  <thead>\n",
       "    <tr style=\"text-align: right;\">\n",
       "      <th></th>\n",
       "      <th>Adj Close</th>\n",
       "      <th>Volume</th>\n",
       "      <th>return</th>\n",
       "    </tr>\n",
       "    <tr>\n",
       "      <th>Date</th>\n",
       "      <th></th>\n",
       "      <th></th>\n",
       "      <th></th>\n",
       "    </tr>\n",
       "  </thead>\n",
       "  <tbody>\n",
       "    <tr>\n",
       "      <th>2014-06-13</th>\n",
       "      <td>39.513950</td>\n",
       "      <td>2600.0</td>\n",
       "      <td>-0.000801</td>\n",
       "    </tr>\n",
       "    <tr>\n",
       "      <th>2014-06-16</th>\n",
       "      <td>39.323936</td>\n",
       "      <td>1000.0</td>\n",
       "      <td>-0.004809</td>\n",
       "    </tr>\n",
       "    <tr>\n",
       "      <th>2014-06-17</th>\n",
       "      <td>39.323936</td>\n",
       "      <td>1500.0</td>\n",
       "      <td>0.000000</td>\n",
       "    </tr>\n",
       "    <tr>\n",
       "      <th>2014-06-18</th>\n",
       "      <td>39.925640</td>\n",
       "      <td>25700.0</td>\n",
       "      <td>0.015301</td>\n",
       "    </tr>\n",
       "    <tr>\n",
       "      <th>2014-06-19</th>\n",
       "      <td>39.987381</td>\n",
       "      <td>14700.0</td>\n",
       "      <td>0.001546</td>\n",
       "    </tr>\n",
       "  </tbody>\n",
       "</table>\n",
       "</div>"
      ],
      "text/plain": [
       "            Adj Close   Volume    return\n",
       "Date                                    \n",
       "2014-06-13  39.513950   2600.0 -0.000801\n",
       "2014-06-16  39.323936   1000.0 -0.004809\n",
       "2014-06-17  39.323936   1500.0  0.000000\n",
       "2014-06-18  39.925640  25700.0  0.015301\n",
       "2014-06-19  39.987381  14700.0  0.001546"
      ]
     },
     "execution_count": 43,
     "metadata": {},
     "output_type": "execute_result"
    }
   ],
   "source": [
    "IEUR['return'] = IEUR['Adj Close']/IEUR['Adj Close'].shift(1)-1\n",
    "IEUR = IEUR.dropna(axis=0, how='any')\n",
    "IEUR.head()"
   ]
  },
  {
   "cell_type": "code",
   "execution_count": 44,
   "metadata": {},
   "outputs": [
    {
     "data": {
      "text/html": [
       "<div>\n",
       "<style scoped>\n",
       "    .dataframe tbody tr th:only-of-type {\n",
       "        vertical-align: middle;\n",
       "    }\n",
       "\n",
       "    .dataframe tbody tr th {\n",
       "        vertical-align: top;\n",
       "    }\n",
       "\n",
       "    .dataframe thead th {\n",
       "        text-align: right;\n",
       "    }\n",
       "</style>\n",
       "<table border=\"1\" class=\"dataframe\">\n",
       "  <thead>\n",
       "    <tr style=\"text-align: right;\">\n",
       "      <th></th>\n",
       "      <th>Adj Close</th>\n",
       "      <th>Volume</th>\n",
       "      <th>return</th>\n",
       "      <th>rank</th>\n",
       "    </tr>\n",
       "    <tr>\n",
       "      <th>Date</th>\n",
       "      <th></th>\n",
       "      <th></th>\n",
       "      <th></th>\n",
       "      <th></th>\n",
       "    </tr>\n",
       "  </thead>\n",
       "  <tbody>\n",
       "    <tr>\n",
       "      <th>2014-06-13</th>\n",
       "      <td>39.513950</td>\n",
       "      <td>2600.0</td>\n",
       "      <td>-0.000801</td>\n",
       "      <td>0</td>\n",
       "    </tr>\n",
       "    <tr>\n",
       "      <th>2014-06-16</th>\n",
       "      <td>39.323936</td>\n",
       "      <td>1000.0</td>\n",
       "      <td>-0.004809</td>\n",
       "      <td>0</td>\n",
       "    </tr>\n",
       "    <tr>\n",
       "      <th>2014-06-17</th>\n",
       "      <td>39.323936</td>\n",
       "      <td>1500.0</td>\n",
       "      <td>0.000000</td>\n",
       "      <td>0</td>\n",
       "    </tr>\n",
       "    <tr>\n",
       "      <th>2014-06-18</th>\n",
       "      <td>39.925640</td>\n",
       "      <td>25700.0</td>\n",
       "      <td>0.015301</td>\n",
       "      <td>0</td>\n",
       "    </tr>\n",
       "    <tr>\n",
       "      <th>2014-06-19</th>\n",
       "      <td>39.987381</td>\n",
       "      <td>14700.0</td>\n",
       "      <td>0.001546</td>\n",
       "      <td>0</td>\n",
       "    </tr>\n",
       "  </tbody>\n",
       "</table>\n",
       "</div>"
      ],
      "text/plain": [
       "            Adj Close   Volume    return  rank\n",
       "Date                                          \n",
       "2014-06-13  39.513950   2600.0 -0.000801     0\n",
       "2014-06-16  39.323936   1000.0 -0.004809     0\n",
       "2014-06-17  39.323936   1500.0  0.000000     0\n",
       "2014-06-18  39.925640  25700.0  0.015301     0\n",
       "2014-06-19  39.987381  14700.0  0.001546     0"
      ]
     },
     "execution_count": 44,
     "metadata": {},
     "output_type": "execute_result"
    }
   ],
   "source": [
    "IEUR['rank']=pd.DataFrame(pd.qcut(IEUR['Volume'],5,labels=False))\n",
    "IEUR.head()"
   ]
  },
  {
   "cell_type": "code",
   "execution_count": 45,
   "metadata": {},
   "outputs": [
    {
     "data": {
      "image/png": "[encoded data removed]",
      "text/plain": [
       "<Figure size 640x480 with 1 Axes>"
      ]
     },
     "metadata": {},
     "output_type": "display_data"
    }
   ],
   "source": [
    "IEUR['rank'].plot()\n",
    "plt.show()"
   ]
  },
  {
   "cell_type": "code",
   "execution_count": 46,
   "metadata": {},
   "outputs": [
    {
     "name": "stdout",
     "output_type": "stream",
     "text": [
      "0\n",
      "1\n",
      "2\n",
      "3\n",
      "4\n"
     ]
    }
   ],
   "source": [
    "port=pd.DataFrame()\n",
    "for rank in [0,1,2,3,4]:\n",
    "    print(rank)\n",
    "    temp=IEUR['return'][IEUR['rank']==rank]\n",
    "    temp=temp.reset_index(drop=True)\n",
    "    port=port.reset_index(drop=True)\n",
    "    port=pd.concat([port,temp],axis=1,ignore_index=True)\n",
    "port=port.dropna(axis=0, how='any')"
   ]
  },
  {
   "cell_type": "code",
   "execution_count": 47,
   "metadata": {},
   "outputs": [
    {
     "data": {
      "text/html": [
       "<div>\n",
       "<style scoped>\n",
       "    .dataframe tbody tr th:only-of-type {\n",
       "        vertical-align: middle;\n",
       "    }\n",
       "\n",
       "    .dataframe tbody tr th {\n",
       "        vertical-align: top;\n",
       "    }\n",
       "\n",
       "    .dataframe thead th {\n",
       "        text-align: right;\n",
       "    }\n",
       "</style>\n",
       "<table border=\"1\" class=\"dataframe\">\n",
       "  <thead>\n",
       "    <tr style=\"text-align: right;\">\n",
       "      <th></th>\n",
       "      <th>0</th>\n",
       "      <th>1</th>\n",
       "      <th>2</th>\n",
       "      <th>3</th>\n",
       "      <th>4</th>\n",
       "    </tr>\n",
       "  </thead>\n",
       "  <tbody>\n",
       "    <tr>\n",
       "      <th>0</th>\n",
       "      <td>-0.000801</td>\n",
       "      <td>-0.011704</td>\n",
       "      <td>-0.003564</td>\n",
       "      <td>0.001951</td>\n",
       "      <td>0.009968</td>\n",
       "    </tr>\n",
       "    <tr>\n",
       "      <th>1</th>\n",
       "      <td>-0.004809</td>\n",
       "      <td>0.001680</td>\n",
       "      <td>-0.008157</td>\n",
       "      <td>-0.004976</td>\n",
       "      <td>0.000220</td>\n",
       "    </tr>\n",
       "    <tr>\n",
       "      <th>2</th>\n",
       "      <td>0.000000</td>\n",
       "      <td>0.005891</td>\n",
       "      <td>-0.022646</td>\n",
       "      <td>-0.000643</td>\n",
       "      <td>-0.011009</td>\n",
       "    </tr>\n",
       "    <tr>\n",
       "      <th>3</th>\n",
       "      <td>0.015301</td>\n",
       "      <td>0.011177</td>\n",
       "      <td>-0.000564</td>\n",
       "      <td>-0.016220</td>\n",
       "      <td>0.003899</td>\n",
       "    </tr>\n",
       "    <tr>\n",
       "      <th>4</th>\n",
       "      <td>0.001546</td>\n",
       "      <td>0.002086</td>\n",
       "      <td>-0.004746</td>\n",
       "      <td>0.009479</td>\n",
       "      <td>-0.004744</td>\n",
       "    </tr>\n",
       "  </tbody>\n",
       "</table>\n",
       "</div>"
      ],
      "text/plain": [
       "          0         1         2         3         4\n",
       "0 -0.000801 -0.011704 -0.003564  0.001951  0.009968\n",
       "1 -0.004809  0.001680 -0.008157 -0.004976  0.000220\n",
       "2  0.000000  0.005891 -0.022646 -0.000643 -0.011009\n",
       "3  0.015301  0.011177 -0.000564 -0.016220  0.003899\n",
       "4  0.001546  0.002086 -0.004746  0.009479 -0.004744"
      ]
     },
     "execution_count": 47,
     "metadata": {},
     "output_type": "execute_result"
    }
   ],
   "source": [
    "port.head()"
   ]
  },
  {
   "cell_type": "code",
   "execution_count": 48,
   "metadata": {},
   "outputs": [
    {
     "name": "stdout",
     "output_type": "stream",
     "text": [
      "0\n",
      "0.000326791134092275\n",
      "Ttest_1sampResult(statistic=0.6717248360865667, pvalue=0.5021681221815009)\n",
      "1\n",
      "0.0005157697829500084\n",
      "Ttest_1sampResult(statistic=1.146679905838488, pvalue=0.252237344920076)\n",
      "2\n",
      "0.00042799648573451586\n",
      "Ttest_1sampResult(statistic=0.8806968425921797, pvalue=0.3790400531065562)\n",
      "3\n",
      "0.000355392954186642\n",
      "Ttest_1sampResult(statistic=0.7372017245232555, pvalue=0.4614558120081248)\n",
      "4\n",
      "-0.00035315888491482963\n",
      "Ttest_1sampResult(statistic=-0.3769966381546001, pvalue=0.7063870967571111)\n"
     ]
    }
   ],
   "source": [
    "for i in [0,1,2,3,4]:\n",
    "    print(i)\n",
    "    print(port.loc[:,i].mean())\n",
    "    print(sst.ttest_1samp(a=port.loc[:,i],popmean=0))    "
   ]
  },
  {
   "cell_type": "markdown",
   "metadata": {},
   "source": [
    "#### For “IEUR”, we fail to reject the null hypothesis of all 5 groups that none of them are statistically different"
   ]
  },
  {
   "cell_type": "code",
   "execution_count": 49,
   "metadata": {},
   "outputs": [
    {
     "data": {
      "text/plain": [
       "Ttest_relResult(statistic=-0.6625026422359211, pvalue=0.5080518080078023)"
      ]
     },
     "execution_count": 49,
     "metadata": {},
     "output_type": "execute_result"
    }
   ],
   "source": [
    "sst.ttest_rel(a=port.loc[:,4],b=port.loc[:,0])"
   ]
  },
  {
   "cell_type": "markdown",
   "metadata": {},
   "source": [
    "#### “IEUR”’s highest return group is NOT statistically different from the lowest return group"
   ]
  },
  {
   "cell_type": "code",
   "execution_count": 50,
   "metadata": {},
   "outputs": [],
   "source": [
    "AIA = pdr.DataReader('AIA',data_source='yahoo',start = '2014-1-1', end = '2021-12-31')[['Adj Close','Volume']]"
   ]
  },
  {
   "cell_type": "code",
   "execution_count": 51,
   "metadata": {},
   "outputs": [
    {
     "data": {
      "text/html": [
       "<div>\n",
       "<style scoped>\n",
       "    .dataframe tbody tr th:only-of-type {\n",
       "        vertical-align: middle;\n",
       "    }\n",
       "\n",
       "    .dataframe tbody tr th {\n",
       "        vertical-align: top;\n",
       "    }\n",
       "\n",
       "    .dataframe thead th {\n",
       "        text-align: right;\n",
       "    }\n",
       "</style>\n",
       "<table border=\"1\" class=\"dataframe\">\n",
       "  <thead>\n",
       "    <tr style=\"text-align: right;\">\n",
       "      <th></th>\n",
       "      <th>Adj Close</th>\n",
       "      <th>Volume</th>\n",
       "      <th>return</th>\n",
       "    </tr>\n",
       "    <tr>\n",
       "      <th>Date</th>\n",
       "      <th></th>\n",
       "      <th></th>\n",
       "      <th></th>\n",
       "    </tr>\n",
       "  </thead>\n",
       "  <tbody>\n",
       "    <tr>\n",
       "      <th>2014-01-03</th>\n",
       "      <td>38.950317</td>\n",
       "      <td>32900.0</td>\n",
       "      <td>-0.007735</td>\n",
       "    </tr>\n",
       "    <tr>\n",
       "      <th>2014-01-06</th>\n",
       "      <td>38.638248</td>\n",
       "      <td>49500.0</td>\n",
       "      <td>-0.008012</td>\n",
       "    </tr>\n",
       "    <tr>\n",
       "      <th>2014-01-07</th>\n",
       "      <td>38.705715</td>\n",
       "      <td>31800.0</td>\n",
       "      <td>0.001746</td>\n",
       "    </tr>\n",
       "    <tr>\n",
       "      <th>2014-01-08</th>\n",
       "      <td>38.806934</td>\n",
       "      <td>7000.0</td>\n",
       "      <td>0.002615</td>\n",
       "    </tr>\n",
       "    <tr>\n",
       "      <th>2014-01-09</th>\n",
       "      <td>38.503304</td>\n",
       "      <td>19400.0</td>\n",
       "      <td>-0.007824</td>\n",
       "    </tr>\n",
       "  </tbody>\n",
       "</table>\n",
       "</div>"
      ],
      "text/plain": [
       "            Adj Close   Volume    return\n",
       "Date                                    \n",
       "2014-01-03  38.950317  32900.0 -0.007735\n",
       "2014-01-06  38.638248  49500.0 -0.008012\n",
       "2014-01-07  38.705715  31800.0  0.001746\n",
       "2014-01-08  38.806934   7000.0  0.002615\n",
       "2014-01-09  38.503304  19400.0 -0.007824"
      ]
     },
     "execution_count": 51,
     "metadata": {},
     "output_type": "execute_result"
    }
   ],
   "source": [
    "AIA['return'] = AIA['Adj Close']/AIA['Adj Close'].shift(1)-1\n",
    "AIA = AIA.dropna(axis=0, how='any')\n",
    "AIA.head()"
   ]
  },
  {
   "cell_type": "code",
   "execution_count": 52,
   "metadata": {},
   "outputs": [
    {
     "data": {
      "text/html": [
       "<div>\n",
       "<style scoped>\n",
       "    .dataframe tbody tr th:only-of-type {\n",
       "        vertical-align: middle;\n",
       "    }\n",
       "\n",
       "    .dataframe tbody tr th {\n",
       "        vertical-align: top;\n",
       "    }\n",
       "\n",
       "    .dataframe thead th {\n",
       "        text-align: right;\n",
       "    }\n",
       "</style>\n",
       "<table border=\"1\" class=\"dataframe\">\n",
       "  <thead>\n",
       "    <tr style=\"text-align: right;\">\n",
       "      <th></th>\n",
       "      <th>Adj Close</th>\n",
       "      <th>Volume</th>\n",
       "      <th>return</th>\n",
       "      <th>rank</th>\n",
       "    </tr>\n",
       "    <tr>\n",
       "      <th>Date</th>\n",
       "      <th></th>\n",
       "      <th></th>\n",
       "      <th></th>\n",
       "      <th></th>\n",
       "    </tr>\n",
       "  </thead>\n",
       "  <tbody>\n",
       "    <tr>\n",
       "      <th>2014-01-03</th>\n",
       "      <td>38.950317</td>\n",
       "      <td>32900.0</td>\n",
       "      <td>-0.007735</td>\n",
       "      <td>1</td>\n",
       "    </tr>\n",
       "    <tr>\n",
       "      <th>2014-01-06</th>\n",
       "      <td>38.638248</td>\n",
       "      <td>49500.0</td>\n",
       "      <td>-0.008012</td>\n",
       "      <td>2</td>\n",
       "    </tr>\n",
       "    <tr>\n",
       "      <th>2014-01-07</th>\n",
       "      <td>38.705715</td>\n",
       "      <td>31800.0</td>\n",
       "      <td>0.001746</td>\n",
       "      <td>1</td>\n",
       "    </tr>\n",
       "    <tr>\n",
       "      <th>2014-01-08</th>\n",
       "      <td>38.806934</td>\n",
       "      <td>7000.0</td>\n",
       "      <td>0.002615</td>\n",
       "      <td>0</td>\n",
       "    </tr>\n",
       "    <tr>\n",
       "      <th>2014-01-09</th>\n",
       "      <td>38.503304</td>\n",
       "      <td>19400.0</td>\n",
       "      <td>-0.007824</td>\n",
       "      <td>1</td>\n",
       "    </tr>\n",
       "  </tbody>\n",
       "</table>\n",
       "</div>"
      ],
      "text/plain": [
       "            Adj Close   Volume    return  rank\n",
       "Date                                          \n",
       "2014-01-03  38.950317  32900.0 -0.007735     1\n",
       "2014-01-06  38.638248  49500.0 -0.008012     2\n",
       "2014-01-07  38.705715  31800.0  0.001746     1\n",
       "2014-01-08  38.806934   7000.0  0.002615     0\n",
       "2014-01-09  38.503304  19400.0 -0.007824     1"
      ]
     },
     "execution_count": 52,
     "metadata": {},
     "output_type": "execute_result"
    }
   ],
   "source": [
    "AIA['rank']=pd.DataFrame(pd.qcut(AIA['Volume'],5,labels=False))\n",
    "AIA.head()"
   ]
  },
  {
   "cell_type": "code",
   "execution_count": 53,
   "metadata": {},
   "outputs": [
    {
     "data": {
      "image/png": "[encoded data removed]",
      "text/plain": [
       "<Figure size 640x480 with 1 Axes>"
      ]
     },
     "metadata": {},
     "output_type": "display_data"
    }
   ],
   "source": [
    "AIA['rank'].plot()\n",
    "plt.show()"
   ]
  },
  {
   "cell_type": "code",
   "execution_count": 54,
   "metadata": {},
   "outputs": [
    {
     "data": {
      "text/html": [
       "<div>\n",
       "<style scoped>\n",
       "    .dataframe tbody tr th:only-of-type {\n",
       "        vertical-align: middle;\n",
       "    }\n",
       "\n",
       "    .dataframe tbody tr th {\n",
       "        vertical-align: top;\n",
       "    }\n",
       "\n",
       "    .dataframe thead th {\n",
       "        text-align: right;\n",
       "    }\n",
       "</style>\n",
       "<table border=\"1\" class=\"dataframe\">\n",
       "  <thead>\n",
       "    <tr style=\"text-align: right;\">\n",
       "      <th></th>\n",
       "      <th>0</th>\n",
       "      <th>1</th>\n",
       "      <th>2</th>\n",
       "      <th>3</th>\n",
       "      <th>4</th>\n",
       "    </tr>\n",
       "  </thead>\n",
       "  <tbody>\n",
       "    <tr>\n",
       "      <th>0</th>\n",
       "      <td>-0.000801</td>\n",
       "      <td>-0.011704</td>\n",
       "      <td>-0.003564</td>\n",
       "      <td>0.001951</td>\n",
       "      <td>0.009968</td>\n",
       "    </tr>\n",
       "    <tr>\n",
       "      <th>1</th>\n",
       "      <td>-0.004809</td>\n",
       "      <td>0.001680</td>\n",
       "      <td>-0.008157</td>\n",
       "      <td>-0.004976</td>\n",
       "      <td>0.000220</td>\n",
       "    </tr>\n",
       "    <tr>\n",
       "      <th>2</th>\n",
       "      <td>0.000000</td>\n",
       "      <td>0.005891</td>\n",
       "      <td>-0.022646</td>\n",
       "      <td>-0.000643</td>\n",
       "      <td>-0.011009</td>\n",
       "    </tr>\n",
       "    <tr>\n",
       "      <th>3</th>\n",
       "      <td>0.015301</td>\n",
       "      <td>0.011177</td>\n",
       "      <td>-0.000564</td>\n",
       "      <td>-0.016220</td>\n",
       "      <td>0.003899</td>\n",
       "    </tr>\n",
       "    <tr>\n",
       "      <th>4</th>\n",
       "      <td>0.001546</td>\n",
       "      <td>0.002086</td>\n",
       "      <td>-0.004746</td>\n",
       "      <td>0.009479</td>\n",
       "      <td>-0.004744</td>\n",
       "    </tr>\n",
       "  </tbody>\n",
       "</table>\n",
       "</div>"
      ],
      "text/plain": [
       "          0         1         2         3         4\n",
       "0 -0.000801 -0.011704 -0.003564  0.001951  0.009968\n",
       "1 -0.004809  0.001680 -0.008157 -0.004976  0.000220\n",
       "2  0.000000  0.005891 -0.022646 -0.000643 -0.011009\n",
       "3  0.015301  0.011177 -0.000564 -0.016220  0.003899\n",
       "4  0.001546  0.002086 -0.004746  0.009479 -0.004744"
      ]
     },
     "execution_count": 54,
     "metadata": {},
     "output_type": "execute_result"
    }
   ],
   "source": [
    "port.head()"
   ]
  },
  {
   "cell_type": "code",
   "execution_count": 55,
   "metadata": {},
   "outputs": [
    {
     "name": "stdout",
     "output_type": "stream",
     "text": [
      "0\n",
      "1\n",
      "2\n",
      "3\n",
      "4\n"
     ]
    }
   ],
   "source": [
    "port=pd.DataFrame()\n",
    "for rank in [0,1,2,3,4]:\n",
    "    print(rank)\n",
    "    temp=AIA['return'][AIA['rank']==rank]\n",
    "    temp=temp.reset_index(drop=True)\n",
    "    port=port.reset_index(drop=True)\n",
    "    port=pd.concat([port,temp],axis=1,ignore_index=True)\n",
    "port=port.dropna(axis=0, how='any')"
   ]
  },
  {
   "cell_type": "code",
   "execution_count": 56,
   "metadata": {},
   "outputs": [
    {
     "name": "stdout",
     "output_type": "stream",
     "text": [
      "0\n",
      "0.0004830566271314943\n",
      "Ttest_1sampResult(statistic=1.151490088952854, pvalue=0.2502167592969644)\n",
      "1\n",
      "0.0007955062120729847\n",
      "Ttest_1sampResult(statistic=1.5820016684489706, pvalue=0.11443755721445803)\n",
      "2\n",
      "0.0012630722825138498\n",
      "Ttest_1sampResult(statistic=2.252657274036127, pvalue=0.024820754613603325)\n",
      "3\n",
      "-0.00011368014674553023\n",
      "Ttest_1sampResult(statistic=-0.16109310106200034, pvalue=0.8721012009003233)\n",
      "4\n",
      "-0.0003614688634419829\n",
      "Ttest_1sampResult(statistic=-0.40794918566979965, pvalue=0.683528704095404)\n"
     ]
    }
   ],
   "source": [
    "for i in [0,1,2,3,4]:\n",
    "    print(i)\n",
    "    print(port.loc[:,i].mean())\n",
    "    print(sst.ttest_1samp(a=port.loc[:,i],popmean=0))   "
   ]
  },
  {
   "cell_type": "markdown",
   "metadata": {},
   "source": [
    "#### For “AIA”, we are able to reject the null hypothesis for group 3 but not 1, 2, 4 and 5"
   ]
  },
  {
   "cell_type": "code",
   "execution_count": 57,
   "metadata": {},
   "outputs": [
    {
     "data": {
      "text/plain": [
       "Ttest_relResult(statistic=-0.8895535951178806, pvalue=0.3742389668646027)"
      ]
     },
     "execution_count": 57,
     "metadata": {},
     "output_type": "execute_result"
    }
   ],
   "source": [
    "sst.ttest_rel(a=port.loc[:,4],b=port.loc[:,0])"
   ]
  },
  {
   "cell_type": "markdown",
   "metadata": {},
   "source": [
    "#### “AIA”’s highest return group is NOT statistically different from the lowest return group"
   ]
  },
  {
   "cell_type": "markdown",
   "metadata": {},
   "source": [
    "### Limitations"
   ]
  },
  {
   "cell_type": "markdown",
   "metadata": {},
   "source": [
    "#### Kurtosis:"
   ]
  },
  {
   "cell_type": "code",
   "execution_count": 58,
   "metadata": {},
   "outputs": [
    {
     "data": {
      "text/plain": [
       "SPY     17.568099\n",
       "IEUR    19.906475\n",
       "AIA      4.857862\n",
       "dtype: float64"
      ]
     },
     "execution_count": 58,
     "metadata": {},
     "output_type": "execute_result"
    }
   ],
   "source": [
    "ETFs_return.kurtosis()"
   ]
  },
  {
   "cell_type": "markdown",
   "metadata": {},
   "source": [
    "#### This might overestimate and underestimate the return and risks considering the inclusion of extreme outcomes"
   ]
  },
  {
   "cell_type": "markdown",
   "metadata": {},
   "source": [
    "END"
   ]
  }
 ],
 "metadata": {
  "kernelspec": {
   "display_name": "Python 3 (ipykernel)",
   "language": "python",
   "name": "python3"
  },
  "language_info": {
   "codemirror_mode": {
    "name": "ipython",
    "version": 3
   },
   "file_extension": ".py",
   "mimetype": "text/x-python",
   "name": "python",
   "nbconvert_exporter": "python",
   "pygments_lexer": "ipython3",
   "version": "3.9.13"
  }
 },
 "nbformat": 4,
 "nbformat_minor": 4
}
